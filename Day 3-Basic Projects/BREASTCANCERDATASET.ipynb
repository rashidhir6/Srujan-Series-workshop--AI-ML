{
 "cells": [
  {
   "cell_type": "code",
   "execution_count": 12,
   "metadata": {},
   "outputs": [
    {
     "name": "stdout",
     "output_type": "stream",
     "text": [
      "[0 1 0 0 1 0 1 0 0 1 1 0 0 0 0 0 0 0 1 1 1 0 0 0 1 1 0 1 0 1 1 1 0 1 1 1 0\n",
      " 0 0 1 1 0 0 0 0 1 1 0 1 1 1 1 0 1 1 1 1 1 0 0 0 1 1 0 0 0 0 1 1 1 0 1 1 1\n",
      " 1 1 1 1 0 1 0 1 1 0 1 0 1 1 1 1 0 1 1 1 1 1 0 1 0 0 0 0 0 0 0 1 0 1 1 0 1\n",
      " 0 1 0 1 1 0 1 0 0 1 1 1 1 1 1 0 0 0 0 0 0 0 1 1 1 1 1 0 1 1 0 1 1 1 1 1 1\n",
      " 1 1 1 1 1 1 1 1 1 1 0 1 0 0 1 1 1 1 1 0 0 0 1 0 1 1 1 0 0 1 1 1 1 1 0 1 0\n",
      " 1 0 1 1 1 1 1 1 1 0 1 0 1 1 1 1 1 1 1 1 1 1 1 0 1 1 1 1 1 1 1 0 1 1 1 0 1\n",
      " 1 1 0 0 1 1 1 1 0 1 0 1 1 1 1 1 1 1 1 1 1 0 0 0 1 1 1 0 0 0 1 1 0 1 1 1 0\n",
      " 1 0 1 1 1 1 1 0 0 1 1 1 1 1 1 1 1 1 1 1 1 1 0 0 0]\n",
      "Accuracy : 0.9154929577464789\n"
     ]
    }
   ],
   "source": [
    "from sklearn import datasets, metrics\n",
    "from sklearn.neighbors import KNeighborsClassifier\n",
    "import numpy as np\n",
    "\n",
    "(data,targets) = datasets.load_breast_cancer(return_X_y=True)\n",
    "trainset = data[0:569:2]\n",
    "trainsettarget = targets[0:569:2]\n",
    "\n",
    "testset = data[1:569:2]\n",
    "testsettarget = targets[1:569:2]\n",
    "\n",
    "clf = KNeighborsClassifier(n_neighbors=3,weights='uniform')\n",
    "clf.fit(trainset,trainsettarget)\n",
    "prediction = clf.predict(testset)\n",
    "\n",
    "print(prediction)\n",
    "\n",
    "print(\"Accuracy :\",metrics.accuracy_score(testsettarget,prediction))\n"
   ]
  },
  {
   "cell_type": "code",
   "execution_count": null,
   "metadata": {},
   "outputs": [],
   "source": []
  },
  {
   "cell_type": "code",
   "execution_count": null,
   "metadata": {},
   "outputs": [],
   "source": []
  }
 ],
 "metadata": {
  "kernelspec": {
   "display_name": "Python 3",
   "language": "python",
   "name": "python3"
  },
  "language_info": {
   "codemirror_mode": {
    "name": "ipython",
    "version": 3
   },
   "file_extension": ".py",
   "mimetype": "text/x-python",
   "name": "python",
   "nbconvert_exporter": "python",
   "pygments_lexer": "ipython3",
   "version": "3.6.5"
  }
 },
 "nbformat": 4,
 "nbformat_minor": 2
}
